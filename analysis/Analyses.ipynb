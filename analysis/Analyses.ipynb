{
 "cells": [
  {
   "cell_type": "markdown",
   "metadata": {
    "application/vnd.databricks.v1+cell": {
     "cellMetadata": {
      "byteLimit": 2048000,
      "rowLimit": 10000
     },
     "inputWidgets": {},
     "nuid": "f77b2caf-e0fb-4f8c-9e75-558c960bea0b",
     "showTitle": false,
     "tableResultSettingsMap": {},
     "title": ""
    }
   },
   "source": [
    "**1)** Qual a média de valor total (total_amount) recebido em um mês considerando todos os yellow táxis da frota?"
   ]
  },
  {
   "cell_type": "code",
   "execution_count": 0,
   "metadata": {
    "application/vnd.databricks.v1+cell": {
     "cellMetadata": {
      "byteLimit": 2048000,
      "implicitDf": true,
      "rowLimit": 10000
     },
     "inputWidgets": {},
     "nuid": "9bd5a0d1-499c-43b3-85c8-59615fed9f23",
     "showTitle": false,
     "tableResultSettingsMap": {},
     "title": ""
    }
   },
   "outputs": [],
   "source": [
    "%sql\n",
    "SELECT\n",
    "    trip_year  AS ano,\n",
    "    trip_month AS mes,\n",
    "    COUNT(trip_month) as qty,\n",
    "    ROUND(AVG(total_amount), 2) AS media_total_amount\n",
    "FROM   ifood_datalake.silver.yellow_tripdata_silver\n",
    "GROUP  BY trip_year, trip_month\n",
    "ORDER  BY trip_year, trip_month;\n"
   ]
  },
  {
   "cell_type": "markdown",
   "metadata": {
    "application/vnd.databricks.v1+cell": {
     "cellMetadata": {
      "byteLimit": 2048000,
      "rowLimit": 10000
     },
     "inputWidgets": {},
     "nuid": "2d79d485-41db-41a5-b40e-bc6370159750",
     "showTitle": false,
     "tableResultSettingsMap": {},
     "title": ""
    }
   },
   "source": [
    "**2)** Qual a média de passageiros (passenger_count) por cada hora do dia que pegaram táxi no mês de maio considerando todos os táxis da frota?"
   ]
  },
  {
   "cell_type": "code",
   "execution_count": 0,
   "metadata": {
    "application/vnd.databricks.v1+cell": {
     "cellMetadata": {
      "byteLimit": 2048000,
      "implicitDf": true,
      "rowLimit": 10000
     },
     "inputWidgets": {},
     "nuid": "335afbac-0df9-4ef9-9fc8-3c0bb6483e01",
     "showTitle": false,
     "tableResultSettingsMap": {},
     "title": ""
    }
   },
   "outputs": [],
   "source": [
    "%sql\n",
    "WITH union_df AS (\n",
    "    SELECT passenger_count,\n",
    "           COALESCE(tpep_pickup_datetime, tpep_pickup_datetime) AS pickup_ts\n",
    "    FROM   ifood_datalake.silver.yellow_tripdata_silver\n",
    "    UNION ALL\n",
    "    SELECT passenger_count,\n",
    "           COALESCE(tpep_pickup_datetime,  tpep_pickup_datetime) AS pickup_ts\n",
    "    FROM   ifood_datalake.silver.green_tripdata_silver\n",
    ")\n",
    "SELECT\n",
    "    HOUR(pickup_ts)                  AS pickup_hour,\n",
    "    ROUND(AVG(passenger_count), 2)   AS media_passageiros\n",
    "FROM   union_df\n",
    "GROUP  BY pickup_hour\n",
    "ORDER  BY pickup_hour;\n"
   ]
  },
  {
   "cell_type": "markdown",
   "metadata": {
    "application/vnd.databricks.v1+cell": {
     "cellMetadata": {
      "byteLimit": 2048000,
      "rowLimit": 10000
     },
     "inputWidgets": {},
     "nuid": "c2c57dc4-8f74-4334-8bbd-18bbdc1c5326",
     "showTitle": false,
     "tableResultSettingsMap": {},
     "title": ""
    }
   },
   "source": [
    "### 📊 Análise mensal por tipo de táxi (Jan–Mai/2023)\n",
    "\n",
    "Esta consulta gera uma visão consolidada mensal por tipo de táxi com as seguintes métricas:\n",
    "\n",
    "- `total_viagens`: total de corridas realizadas;\n",
    "- `total_passageiros`: soma dos passageiros transportados;\n",
    "- `receita_total`: receita bruta do mês;\n",
    "- `milhas_totais` e `duracao_total_min`: distância e tempo total;\n",
    "- Indicadores médios por corrida:\n",
    "  - `ticket_medio`: receita média por viagem;\n",
    "  - `receita_por_passageiro`, `distancia_media_mi`, `duracao_media_min`;\n",
    "  - `ocupacao_media`: média de passageiros por corrida;\n",
    "  - `receita_por_milha`, `tempo_por_milha`: eficiência por milha;\n",
    "  - `fator_de_carga_medio`: média do `load_factor` calculado na Gold."
   ]
  },
  {
   "cell_type": "code",
   "execution_count": 0,
   "metadata": {
    "application/vnd.databricks.v1+cell": {
     "cellMetadata": {
      "byteLimit": 2048000,
      "implicitDf": true,
      "rowLimit": 10000
     },
     "inputWidgets": {},
     "nuid": "27135d12-2019-4080-bdd9-96322bf87cd4",
     "showTitle": false,
     "tableResultSettingsMap": {},
     "title": ""
    }
   },
   "outputs": [],
   "source": [
    "%sql\n",
    "WITH ref_dates AS (\n",
    "  SELECT date_id\n",
    "  FROM   ifood_datalake.gold.dim_date\n",
    ")\n",
    "SELECT   \n",
    "    f.taxi_type,\n",
    "    d.year   AS ano,\n",
    "    d.month  AS mes,\n",
    "    SUM(f.num_trips)                   AS total_viagens,\n",
    "    SUM(f.total_passengers)           AS total_passageiros,\n",
    "    ROUND(SUM(f.total_revenue), 2)    AS receita_total,\n",
    "    ROUND(SUM(f.distance_mi), 2)      AS milhas_totais,\n",
    "    ROUND(SUM(f.total_duration), 2)   AS duracao_total_min,\n",
    "    ROUND(SUM(f.total_revenue) / SUM(f.num_trips), 2)           AS ticket_medio,\n",
    "    ROUND(SUM(f.total_revenue) / SUM(f.total_passengers), 2)    AS receita_por_passageiro,\n",
    "    ROUND(SUM(f.distance_mi) / SUM(f.num_trips), 2)             AS distancia_media_mi,\n",
    "    ROUND(SUM(f.total_duration) / SUM(f.num_trips), 2)          AS duracao_media_min,\n",
    "    ROUND(SUM(f.total_passengers) / SUM(f.num_trips), 2)        AS ocupacao_media,\n",
    "    ROUND(SUM(f.total_revenue) / NULLIF(SUM(f.distance_mi), 0), 2) AS receita_por_milha,\n",
    "    ROUND(SUM(f.total_duration) / NULLIF(SUM(f.distance_mi), 0), 2) AS tempo_por_milha,\n",
    "    ROUND(AVG(f.load_factor), 2)                                AS fator_de_carga_medio\n",
    "\n",
    "FROM     ifood_datalake.gold.fact_trips f\n",
    "JOIN     ifood_datalake.gold.dim_date d\n",
    "              ON f.pickup_date_id = d.date_id\n",
    "JOIN     ref_dates r           \n",
    "              ON r.date_id = d.date_id\n",
    "GROUP BY f.taxi_type, d.year, d.month\n",
    "ORDER BY d.year, d.month, f.taxi_type;"
   ]
  },
  {
   "cell_type": "markdown",
   "metadata": {
    "application/vnd.databricks.v1+cell": {
     "cellMetadata": {
      "byteLimit": 2048000,
      "rowLimit": 10000
     },
     "inputWidgets": {},
     "nuid": "f91a8eaa-4c23-4542-bc85-f17d4fb263c1",
     "showTitle": false,
     "tableResultSettingsMap": {},
     "title": ""
    }
   },
   "source": [
    "### 🚕 Comparativo geral entre tipos de táxi (Gold)\n",
    "\n",
    "Consulta que consolida as principais métricas operacionais e financeiras por tipo de táxi, com base na tabela `gold.fact_trips`:\n",
    "\n",
    "- Totais:\n",
    "  - `total_viagens`, `total_passageiros`, `receita_total`;\n",
    "  - `milhas_totais`, `duracao_total_min`.\n",
    "- Médias por corrida:\n",
    "  - `ticket_medio`, `receita_por_passageiro`, `distancia_media_mi`, `duracao_media_min`, `ocupacao_media`;\n",
    "- Eficiência:\n",
    "  - `receita_por_milha`, `tempo_por_milha`, `fator_de_carga_medio`.\n",
    "\n",
    "🔽 **Ordenação por receita total**, permitindo identificar os tipos de táxi com maior geração de valor no período.\n",
    "\n",
    "🎯 **Objetivo**: realizar um comparativo entre categorias de táxi para análise de performance e potencial de rentabilidade.\n"
   ]
  },
  {
   "cell_type": "code",
   "execution_count": 0,
   "metadata": {
    "application/vnd.databricks.v1+cell": {
     "cellMetadata": {
      "byteLimit": 2048000,
      "implicitDf": true,
      "rowLimit": 10000
     },
     "inputWidgets": {},
     "nuid": "27e12ddf-9aa7-4658-8bfb-d1338fc6705f",
     "showTitle": false,
     "tableResultSettingsMap": {},
     "title": ""
    }
   },
   "outputs": [
    {
     "output_type": "display_data",
     "data": {
      "text/plain": [
       "Databricks visualization. Run in Databricks to view."
      ]
     },
     "metadata": {
      "application/vnd.databricks.v1.subcommand+json": {
       "baseErrorDetails": null,
       "bindings": {},
       "collapsed": false,
       "command": "%sql WITH q AS (SELECT   \n    f.taxi_type,\n    SUM(f.num_trips)                   AS total_viagens,\n    SUM(f.total_passengers)           AS total_passageiros,\n    ROUND(SUM(f.total_revenue), 2)    AS receita_total,\n    ROUND(SUM(f.distance_mi), 2)      AS milhas_totais,\n    ROUND(SUM(f.total_duration), 2)   AS duracao_total_min,\n    \n    ROUND(SUM(f.total_revenue) / SUM(f.num_trips), 2)           AS ticket_medio,\n    ROUND(SUM(f.total_revenue) / SUM(f.total_passengers), 2)    AS receita_por_passageiro,\n    ROUND(SUM(f.distance_mi) / SUM(f.num_trips), 2)             AS distancia_media_mi,\n    ROUND(SUM(f.total_duration) / SUM(f.num_trips), 2)          AS duracao_media_min,\n    ROUND(SUM(f.total_passengers) / SUM(f.num_trips), 2)        AS ocupacao_media,\n    ROUND(SUM(f.total_revenue) / NULLIF(SUM(f.distance_mi), 0), 2) AS receita_por_milha,\n    ROUND(SUM(f.total_duration) / NULLIF(SUM(f.distance_mi), 0), 2) AS tempo_por_milha,\n    ROUND(AVG(f.load_factor), 2)                                AS fator_de_carga_medio\n\nFROM ifood_datalake.gold.fact_trips f\nGROUP BY f.taxi_type\nORDER BY receita_total DESC) SELECT `taxi_type`,AVG(`distancia_media_mi`) `column_75f5f107126`,AVG(`receita_por_milha`) `column_75f5f107129` FROM q GROUP BY `taxi_type`",
       "commandTitle": "Visualization 1",
       "commandType": "auto",
       "commandVersion": 0,
       "commentThread": [],
       "commentsVisible": false,
       "contentSha256Hex": null,
       "customPlotOptions": {
        "redashChart": [
         {
          "key": "type",
          "value": "CHART"
         },
         {
          "key": "options",
          "value": {
           "alignYAxesAtZero": true,
           "coefficient": 1,
           "columnConfigurationMap": {
            "x": {
             "column": "taxi_type",
             "id": "column_75f5f107124"
            },
            "y": [
             {
              "column": "distancia_media_mi",
              "id": "column_75f5f107126",
              "transform": "AVG"
             },
             {
              "column": "receita_por_milha",
              "id": "column_75f5f107129",
              "transform": "AVG"
             }
            ]
           },
           "dateTimeFormat": "DD/MM/YYYY HH:mm",
           "direction": {
            "type": "counterclockwise"
           },
           "error_y": {
            "type": "data",
            "visible": true
           },
           "globalSeriesType": "column",
           "isAggregationOn": true,
           "legend": {
            "traceorder": "normal"
           },
           "missingValuesAsZero": true,
           "numberFormat": "0,0.[00000]",
           "percentFormat": "0[.]00%",
           "series": {
            "error_y": {
             "type": "data",
             "visible": true
            },
            "stacking": null
           },
           "seriesOptions": {
            "column_75f5f107126": {
             "type": "column",
             "yAxis": 0
            },
            "column_75f5f107129": {
             "type": "column",
             "yAxis": 0
            }
           },
           "showDataLabels": false,
           "sizemode": "diameter",
           "sortX": true,
           "sortY": true,
           "swappedAxes": false,
           "textFormat": "",
           "useAggregationsUi": true,
           "valuesOptions": {},
           "version": 2,
           "xAxis": {
            "labels": {
             "enabled": true
            },
            "type": "-"
           },
           "yAxis": [
            {
             "type": "-"
            },
            {
             "opposite": true,
             "type": "-"
            }
           ]
          }
         }
        ]
       },
       "datasetPreviewNameToCmdIdMap": {},
       "diffDeletes": [],
       "diffInserts": [],
       "displayType": "redashChart",
       "error": null,
       "errorDetails": null,
       "errorSummary": null,
       "errorTraceType": null,
       "finishTime": 0,
       "globalVars": {},
       "guid": "",
       "height": "auto",
       "hideCommandCode": false,
       "hideCommandResult": false,
       "iPythonMetadata": null,
       "inputWidgets": {},
       "isLockedInExamMode": false,
       "latestUser": "a user",
       "latestUserId": null,
       "listResultMetadata": null,
       "metadata": {
        "byteLimit": 2048000,
        "implicitDf": true,
        "rowLimit": 10000
       },
       "nuid": "ea8b4be7-9e9c-4063-83b9-d21f9021a92c",
       "origId": 0,
       "parentHierarchy": [],
       "pivotAggregation": null,
       "pivotColumns": null,
       "position": 7.0,
       "resultDbfsErrorMessage": null,
       "resultDbfsStatus": "INLINED_IN_TREE",
       "results": null,
       "showCommandTitle": false,
       "startTime": 0,
       "state": "input",
       "streamStates": {},
       "subcommandOptions": {
        "queryPlan": {
         "groups": [
          {
           "column": "taxi_type",
           "type": "column"
          }
         ],
         "selects": [
          {
           "column": "taxi_type",
           "type": "column"
          },
          {
           "alias": "column_75f5f107126",
           "args": [
            {
             "column": "distancia_media_mi",
             "type": "column"
            }
           ],
           "function": "AVG",
           "type": "function"
          },
          {
           "alias": "column_75f5f107129",
           "args": [
            {
             "column": "receita_por_milha",
             "type": "column"
            }
           ],
           "function": "AVG",
           "type": "function"
          }
         ]
        }
       },
       "submitTime": 0,
       "subtype": "tableResultSubCmd.visualization",
       "tableResultIndex": 0,
       "tableResultSettingsMap": {},
       "useConsistentColors": false,
       "version": "CommandV1",
       "width": "auto",
       "workflows": null,
       "xColumns": null,
       "yColumns": null
      }
     },
     "output_type": "display_data"
    }
   ],
   "source": [
    "%sql\n",
    "SELECT   \n",
    "    f.taxi_type,\n",
    "    SUM(f.num_trips)                   AS total_viagens,\n",
    "    SUM(f.total_passengers)           AS total_passageiros,\n",
    "    ROUND(SUM(f.total_revenue), 2)    AS receita_total,\n",
    "    ROUND(SUM(f.distance_mi), 2)      AS milhas_totais,\n",
    "    ROUND(SUM(f.total_duration), 2)   AS duracao_total_min,\n",
    "    \n",
    "    ROUND(SUM(f.total_revenue) / SUM(f.num_trips), 2)           AS ticket_medio,\n",
    "    ROUND(SUM(f.total_revenue) / SUM(f.total_passengers), 2)    AS receita_por_passageiro,\n",
    "    ROUND(SUM(f.distance_mi) / SUM(f.num_trips), 2)             AS distancia_media_mi,\n",
    "    ROUND(SUM(f.total_duration) / SUM(f.num_trips), 2)          AS duracao_media_min,\n",
    "    ROUND(SUM(f.total_passengers) / SUM(f.num_trips), 2)        AS ocupacao_media,\n",
    "    ROUND(SUM(f.total_revenue) / NULLIF(SUM(f.distance_mi), 0), 2) AS receita_por_milha,\n",
    "    ROUND(SUM(f.total_duration) / NULLIF(SUM(f.distance_mi), 0), 2) AS tempo_por_milha,\n",
    "    ROUND(AVG(f.load_factor), 2)                                AS fator_de_carga_medio\n",
    "\n",
    "FROM ifood_datalake.gold.fact_trips f\n",
    "GROUP BY f.taxi_type\n",
    "ORDER BY receita_total DESC;\n"
   ]
  }
 ],
 "metadata": {
  "application/vnd.databricks.v1+notebook": {
   "computePreferences": null,
   "dashboards": [],
   "environmentMetadata": {
    "base_environment": "",
    "environment_version": "2"
   },
   "inputWidgetPreferences": null,
   "language": "python",
   "notebookMetadata": {
    "mostRecentlyExecutedCommandWithImplicitDF": {
     "commandId": 8630301357210538,
     "dataframes": [
      "_sqldf"
     ]
    },
    "pythonIndentUnit": 4
   },
   "notebookName": "Analyses",
   "widgets": {}
  },
  "language_info": {
   "name": "python"
  }
 },
 "nbformat": 4,
 "nbformat_minor": 0
}
