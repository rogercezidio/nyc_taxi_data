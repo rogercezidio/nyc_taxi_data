{
 "cells": [
  {
   "cell_type": "markdown",
   "metadata": {
    "application/vnd.databricks.v1+cell": {
     "cellMetadata": {},
     "inputWidgets": {},
     "nuid": "f77b2caf-e0fb-4f8c-9e75-558c960bea0b",
     "showTitle": false,
     "tableResultSettingsMap": {},
     "title": ""
    }
   },
   "source": [
    "**1)** Qual a média de valor total (total_amount) recebido em um mês considerando todos os yellow táxis da frota?"
   ]
  },
  {
   "cell_type": "code",
   "execution_count": 0,
   "metadata": {
    "application/vnd.databricks.v1+cell": {
     "cellMetadata": {
      "byteLimit": 2048000,
      "implicitDf": true,
      "rowLimit": 10000
     },
     "inputWidgets": {},
     "nuid": "9bd5a0d1-499c-43b3-85c8-59615fed9f23",
     "showTitle": false,
     "tableResultSettingsMap": {},
     "title": ""
    }
   },
   "outputs": [],
   "source": [
    "%sql\n",
    "SELECT\n",
    "    trip_year  AS ano,\n",
    "    trip_month AS mes,\n",
    "    COUNT(trip_month) as qty,\n",
    "    ROUND(AVG(total_amount), 2) AS media_total_amount\n",
    "FROM   ifood_datalake.silver.yellow_tripdata_silver\n",
    "GROUP  BY trip_year, trip_month\n",
    "ORDER  BY trip_year, trip_month;\n"
   ]
  },
  {
   "cell_type": "markdown",
   "metadata": {
    "application/vnd.databricks.v1+cell": {
     "cellMetadata": {},
     "inputWidgets": {},
     "nuid": "2d79d485-41db-41a5-b40e-bc6370159750",
     "showTitle": false,
     "tableResultSettingsMap": {},
     "title": ""
    }
   },
   "source": [
    "**2)** Qual a média de passageiros (passenger_count) por cada hora do dia que pegaram táxi no mês de maio considerando todos os táxis da frota?"
   ]
  },
  {
   "cell_type": "code",
   "execution_count": 0,
   "metadata": {
    "application/vnd.databricks.v1+cell": {
     "cellMetadata": {
      "byteLimit": 2048000,
      "implicitDf": true,
      "rowLimit": 10000
     },
     "inputWidgets": {},
     "nuid": "335afbac-0df9-4ef9-9fc8-3c0bb6483e01",
     "showTitle": false,
     "tableResultSettingsMap": {},
     "title": ""
    }
   },
   "outputs": [],
   "source": [
    "%sql\n",
    "WITH union_df AS (\n",
    "    SELECT passenger_count,\n",
    "           COALESCE(tpep_pickup_datetime, tpep_pickup_datetime) AS pickup_ts\n",
    "    FROM   ifood_datalake.silver.yellow_tripdata_silver\n",
    "    UNION ALL\n",
    "    SELECT passenger_count,\n",
    "           COALESCE(tpep_pickup_datetime,  tpep_pickup_datetime) AS pickup_ts\n",
    "    FROM   ifood_datalake.silver.green_tripdata_silver\n",
    ")\n",
    "SELECT\n",
    "    HOUR(pickup_ts)                  AS pickup_hour,\n",
    "    ROUND(AVG(passenger_count), 2)   AS media_passageiros\n",
    "FROM   union_df\n",
    "GROUP  BY pickup_hour\n",
    "ORDER  BY pickup_hour;\n"
   ]
  },
  {
   "cell_type": "markdown",
   "metadata": {
    "application/vnd.databricks.v1+cell": {
     "cellMetadata": {},
     "inputWidgets": {},
     "nuid": "c2c57dc4-8f74-4334-8bbd-18bbdc1c5326",
     "showTitle": false,
     "tableResultSettingsMap": {},
     "title": ""
    }
   },
   "source": [
    "Outras análises:"
   ]
  },
  {
   "cell_type": "code",
   "execution_count": 0,
   "metadata": {
    "application/vnd.databricks.v1+cell": {
     "cellMetadata": {
      "byteLimit": 2048000,
      "implicitDf": true,
      "rowLimit": 10000
     },
     "inputWidgets": {},
     "nuid": "27135d12-2019-4080-bdd9-96322bf87cd4",
     "showTitle": false,
     "tableResultSettingsMap": {},
     "title": ""
    }
   },
   "outputs": [],
   "source": [
    "%sql\n",
    "WITH ref_dates AS (\n",
    "  SELECT date_id\n",
    "  FROM   ifood_datalake.gold.dim_date\n",
    ")\n",
    "SELECT   \n",
    "    f.taxi_type,\n",
    "    d.year   AS ano,\n",
    "    d.month  AS mes,\n",
    "    SUM(f.num_trips)                   AS total_viagens,\n",
    "    SUM(f.total_passengers)           AS total_passageiros,\n",
    "    ROUND(SUM(f.total_revenue), 2)    AS receita_total,\n",
    "    ROUND(SUM(f.distance_mi), 2)      AS milhas_totais,\n",
    "    ROUND(SUM(f.total_duration), 2)   AS duracao_total_min,\n",
    "    ROUND(SUM(f.total_revenue) / SUM(f.num_trips), 2)           AS ticket_medio,\n",
    "    ROUND(SUM(f.total_revenue) / SUM(f.total_passengers), 2)    AS receita_por_passageiro,\n",
    "    ROUND(SUM(f.distance_mi) / SUM(f.num_trips), 2)             AS distancia_media_mi,\n",
    "    ROUND(SUM(f.total_duration) / SUM(f.num_trips), 2)          AS duracao_media_min,\n",
    "    ROUND(SUM(f.total_passengers) / SUM(f.num_trips), 2)        AS ocupacao_media,\n",
    "    ROUND(SUM(f.total_revenue) / NULLIF(SUM(f.distance_mi), 0), 2) AS receita_por_milha,\n",
    "    ROUND(SUM(f.total_duration) / NULLIF(SUM(f.distance_mi), 0), 2) AS tempo_por_milha,\n",
    "    ROUND(AVG(f.load_factor), 2)                                AS fator_de_carga_medio\n",
    "\n",
    "FROM     ifood_datalake.gold.fact_trips f\n",
    "JOIN     ifood_datalake.gold.dim_date d\n",
    "              ON f.pickup_date_id = d.date_id\n",
    "JOIN     ref_dates r           \n",
    "              ON r.date_id = d.date_id\n",
    "GROUP BY f.taxi_type, d.year, d.month\n",
    "ORDER BY d.year, d.month, f.taxi_type;"
   ]
  },
  {
   "cell_type": "code",
   "execution_count": 0,
   "metadata": {
    "application/vnd.databricks.v1+cell": {
     "cellMetadata": {
      "byteLimit": 2048000,
      "implicitDf": true,
      "rowLimit": 10000
     },
     "inputWidgets": {},
     "nuid": "27e12ddf-9aa7-4658-8bfb-d1338fc6705f",
     "showTitle": false,
     "tableResultSettingsMap": {},
     "title": ""
    }
   },
   "outputs": [],
   "source": [
    "%sql\n",
    "SELECT   \n",
    "    f.taxi_type,\n",
    "    SUM(f.num_trips)                   AS total_viagens,\n",
    "    SUM(f.total_passengers)           AS total_passageiros,\n",
    "    ROUND(SUM(f.total_revenue), 2)    AS receita_total,\n",
    "    ROUND(SUM(f.distance_mi), 2)      AS milhas_totais,\n",
    "    ROUND(SUM(f.total_duration), 2)   AS duracao_total_min,\n",
    "    \n",
    "    ROUND(SUM(f.total_revenue) / SUM(f.num_trips), 2)           AS ticket_medio,\n",
    "    ROUND(SUM(f.total_revenue) / SUM(f.total_passengers), 2)    AS receita_por_passageiro,\n",
    "    ROUND(SUM(f.distance_mi) / SUM(f.num_trips), 2)             AS distancia_media_mi,\n",
    "    ROUND(SUM(f.total_duration) / SUM(f.num_trips), 2)          AS duracao_media_min,\n",
    "    ROUND(SUM(f.total_passengers) / SUM(f.num_trips), 2)        AS ocupacao_media,\n",
    "    ROUND(SUM(f.total_revenue) / NULLIF(SUM(f.distance_mi), 0), 2) AS receita_por_milha,\n",
    "    ROUND(SUM(f.total_duration) / NULLIF(SUM(f.distance_mi), 0), 2) AS tempo_por_milha,\n",
    "    ROUND(AVG(f.load_factor), 2)                                AS fator_de_carga_medio\n",
    "\n",
    "FROM ifood_datalake.gold.fact_trips f\n",
    "GROUP BY f.taxi_type\n",
    "ORDER BY receita_total DESC;\n"
   ]
  }
 ],
 "metadata": {
  "application/vnd.databricks.v1+notebook": {
   "computePreferences": null,
   "dashboards": [],
   "environmentMetadata": {
    "base_environment": "",
    "environment_version": "2"
   },
   "inputWidgetPreferences": null,
   "language": "python",
   "notebookMetadata": {
    "mostRecentlyExecutedCommandWithImplicitDF": {
     "commandId": 8630301357210512,
     "dataframes": [
      "_sqldf"
     ]
    },
    "pythonIndentUnit": 4
   },
   "notebookName": "Analyses",
   "widgets": {}
  },
  "language_info": {
   "name": "python"
  }
 },
 "nbformat": 4,
 "nbformat_minor": 0
}
