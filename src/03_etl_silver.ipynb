{
 "cells": [
  {
   "cell_type": "code",
   "execution_count": 0,
   "metadata": {
    "application/vnd.databricks.v1+cell": {
     "cellMetadata": {
      "byteLimit": 2048000,
      "rowLimit": 10000
     },
     "inputWidgets": {},
     "nuid": "673d45bc-05f1-49d9-b87e-4de8f171e97e",
     "showTitle": false,
     "tableResultSettingsMap": {},
     "title": ""
    }
   },
   "outputs": [],
   "source": [
    "from pyspark.sql import functions as F, Window\n",
    "from helpers import BRONZE, SILVER, TAXI_TYPES\n",
    "spark.conf.set(\n",
    "    \"spark.databricks.delta.properties.defaults.feature.timestampNtz\",\n",
    "    \"supported\"\n",
    ")"
   ]
  },
  {
   "cell_type": "markdown",
   "metadata": {
    "application/vnd.databricks.v1+cell": {
     "cellMetadata": {
      "byteLimit": 2048000,
      "rowLimit": 10000
     },
     "inputWidgets": {},
     "nuid": "939e4def-828c-4dcf-aa25-2a4b4daec88d",
     "showTitle": false,
     "tableResultSettingsMap": {},
     "title": ""
    }
   },
   "source": [
    "### 🧠 Enriquecimento dos dados base (Silver)\n",
    "\n",
    "Função para adicionar colunas derivadas aos dados de corrida:\n",
    "\n",
    "- `trip_duration_min`: duração da corrida em minutos;\n",
    "- `pickup_hour`: hora do embarque;\n",
    "- `weekday`: dia da semana do embarque (ex: Mon, Tue...);\n",
    "- `week_of_year`: número da semana no ano.\n",
    "\n",
    "🎯 **Objetivo**: adicionar atributos temporais úteis para análises exploratórias e agregações futuras.\n"
   ]
  },
  {
   "cell_type": "code",
   "execution_count": 0,
   "metadata": {
    "application/vnd.databricks.v1+cell": {
     "cellMetadata": {
      "byteLimit": 2048000,
      "rowLimit": 10000
     },
     "inputWidgets": {},
     "nuid": "ad19647a-8592-4b89-9769-36124b6f16ed",
     "showTitle": false,
     "tableResultSettingsMap": {},
     "title": ""
    }
   },
   "outputs": [],
   "source": [
    "def enrich_base(df, p_col, d_col):\n",
    "    return (df\n",
    "            .withColumn(\n",
    "                \"trip_duration_min\",\n",
    "                F.expr(f\"timestampdiff(SECOND, {p_col}, {d_col})\")/60.0\n",
    "            )\n",
    "            .withColumn(\"pickup_hour\",  F.hour(p_col))\n",
    "            .withColumn(\"weekday\",      F.date_format(p_col, \"E\"))\n",
    "            .withColumn(\"week_of_year\", F.weekofyear(p_col))\n",
    "           )"
   ]
  },
  {
   "cell_type": "markdown",
   "metadata": {
    "application/vnd.databricks.v1+cell": {
     "cellMetadata": {
      "byteLimit": 2048000,
      "rowLimit": 10000
     },
     "inputWidgets": {},
     "nuid": "bc2cd7cb-9add-4df0-a630-e406af4a8a19",
     "showTitle": false,
     "tableResultSettingsMap": {},
     "title": ""
    }
   },
   "source": [
    "### 🧪 Transformação e validação da camada Silver\n",
    "\n",
    "Este trecho lê os dados da camada Bronze e:\n",
    "\n",
    "- Aplica o enriquecimento temporal com a função `enrich_base`;\n",
    "- Realiza **filtros de qualidade**:\n",
    "  - Valores não nulos e dentro de faixas esperadas (`total_amount`, `trip_distance`, `passenger_count`);\n",
    "  - Consistência temporal (`pickup < dropoff`);\n",
    "  - Restrições de período: somente corridas entre **jan e mai de 2023**;\n",
    "- Escreve os dados no formato **Delta Lake**, com validações por constraints.\n",
    "\n",
    "🎯 **Objetivo**: refinar os dados para análises seguras, aplicando filtros de qualidade e enriquecimentos temporais.\n"
   ]
  },
  {
   "cell_type": "code",
   "execution_count": 0,
   "metadata": {
    "application/vnd.databricks.v1+cell": {
     "cellMetadata": {
      "byteLimit": 2048000,
      "rowLimit": 10000
     },
     "inputWidgets": {},
     "nuid": "5a59fecf-ba8e-4897-bba8-4c1d60606ae8",
     "showTitle": false,
     "tableResultSettingsMap": {},
     "title": ""
    }
   },
   "outputs": [],
   "source": [
    "for tt in TAXI_TYPES:\n",
    "    src_tbl = f\"{BRONZE.SCHEMA}.{tt}_tripdata_bronze\"\n",
    "    if not spark.catalog.tableExists(src_tbl):\n",
    "        print(f\"Camada bronze sem dados para {tt}, pulando…\")\n",
    "        continue\n",
    "\n",
    "    df = spark.table(src_tbl)\n",
    "\n",
    "    pickup_col, drop_col = (\n",
    "        (\"tpep_pickup_datetime\", \"tpep_dropoff_datetime\")\n",
    "        if tt in (\"yellow\", \"green\")\n",
    "        else (\"pickup_datetime\",  \"dropoff_datetime\")\n",
    "    )\n",
    "\n",
    "    df = enrich_base(df, pickup_col, drop_col)\n",
    "\n",
    "    rules = (\n",
    "        (F.col(\"total_amount\")    >= 0) &\n",
    "        (F.col(\"trip_distance\")   >  0) & (F.col(\"trip_distance\") < 100) &\n",
    "        (F.col(pickup_col)        <  F.col(drop_col))\n",
    "    )\n",
    "    if \"passenger_count\" in df.columns:\n",
    "        rules &= (\n",
    "            F.col(\"passenger_count\").isNull() |\n",
    "            ((F.col(\"passenger_count\") >= 1) & (F.col(\"passenger_count\") <= 8))\n",
    "        )\n",
    "\n",
    "    period_valid = (\n",
    "        (F.col(\"trip_year\") == 2023) &\n",
    "        (F.col(\"trip_month\").between(1, 5))\n",
    "    )\n",
    "\n",
    "    df = df.filter(rules & period_valid)\n",
    "\n",
    "    tgt_tbl = f\"{SILVER.SCHEMA}.{tt}_tripdata_silver\"\n",
    "\n",
    "    (df.write\n",
    "        .format(\"delta\")\n",
    "        .mode(\"overwrite\")                \n",
    "        .partitionBy(\"trip_year\", \"trip_month\")\n",
    "        .option(\"overwriteSchema\", \"true\")\n",
    "        .option(\"delta.feature.checkConstraints\", \"supported\")\n",
    "        .option(\"delta.constraints.amount_nonneg\",      \"total_amount >= 0\")\n",
    "        .option(\"delta.constraints.distance_positive\",  \"trip_distance > 0 AND trip_distance < 100\")\n",
    "        .option(\"delta.constraints.pickup_before_drop\", f\"{pickup_col} < {drop_col}\")\n",
    "        .option(\"delta.constraints.passenger_ok\",\n",
    "                \"passenger_count IS NULL OR (passenger_count BETWEEN 1 AND 8)\")\n",
    "        .option(\"delta.constraints.period_2023_jan_may\",\n",
    "                \"trip_year = 2023 AND trip_month BETWEEN 1 AND 5\")\n",
    "        .saveAsTable(tgt_tbl) \n",
    "    )\n",
    "\n",
    "    print(f\"Silver {tt}: {spark.table(tgt_tbl).count():,} linhas\")\n",
    "\n",
    "print(\"Camada Silver processada!\")\n"
   ]
  },
  {
   "cell_type": "code",
   "execution_count": 0,
   "metadata": {
    "application/vnd.databricks.v1+cell": {
     "cellMetadata": {
      "byteLimit": 2048000,
      "rowLimit": 10000
     },
     "inputWidgets": {},
     "nuid": "f75e9299-678e-4eda-b4ab-111527dacb72",
     "showTitle": false,
     "tableResultSettingsMap": {},
     "title": ""
    }
   },
   "outputs": [],
   "source": []
  }
 ],
 "metadata": {
  "application/vnd.databricks.v1+notebook": {
   "computePreferences": null,
   "dashboards": [],
   "environmentMetadata": {
    "base_environment": "",
    "environment_version": "2"
   },
   "inputWidgetPreferences": null,
   "language": "python",
   "notebookMetadata": {
    "pythonIndentUnit": 4
   },
   "notebookName": "03_etl_silver",
   "widgets": {}
  },
  "language_info": {
   "name": "python"
  }
 },
 "nbformat": 4,
 "nbformat_minor": 0
}
